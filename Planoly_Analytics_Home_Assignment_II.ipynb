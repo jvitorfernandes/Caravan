{
  "nbformat": 4,
  "nbformat_minor": 0,
  "metadata": {
    "colab": {
      "name": "Planoly Analytics Home Assignment II.ipynb",
      "provenance": [],
      "collapsed_sections": [
        "OCH8oL16uXFl",
        "g01lKN4m0osq"
      ],
      "toc_visible": true,
      "authorship_tag": "ABX9TyO7igj33suXZENBaC3PTi3f",
      "include_colab_link": true
    },
    "kernelspec": {
      "name": "python3",
      "display_name": "Python 3"
    },
    "language_info": {
      "name": "python"
    }
  },
  "cells": [
    {
      "cell_type": "markdown",
      "metadata": {
        "id": "view-in-github",
        "colab_type": "text"
      },
      "source": [
        "<a href=\"https://colab.research.google.com/github/jvitorfernandes/Caravan/blob/master/Planoly_Analytics_Home_Assignment_II.ipynb\" target=\"_parent\"><img src=\"https://colab.research.google.com/assets/colab-badge.svg\" alt=\"Open In Colab\"/></a>"
      ]
    },
    {
      "cell_type": "markdown",
      "source": [
        "# Analytics on Event Data\n",
        "\n"
      ],
      "metadata": {
        "id": "xtUEhf0-TxH5"
      }
    },
    {
      "cell_type": "markdown",
      "source": [
        "### 1. Which are the top 10 account ids by number of users?\n"
      ],
      "metadata": {
        "id": "kM-W1n0xsZzt"
      }
    },
    {
      "cell_type": "markdown",
      "source": [
        "```sql\n",
        "select account_id,\n",
        "       SUM(DISTINCT user_id) as total_unique_users\n",
        "from tasks_used_da\n",
        "group by account_id\n",
        "order by total_unique_users DESC\n",
        "limit 10;\n",
        "```"
      ],
      "metadata": {
        "id": "c-UGJVysvW3M"
      }
    },
    {
      "cell_type": "markdown",
      "source": [
        "| account\\_id | total\\_unique\\_users |\n",
        "| :--- | :--- |\n",
        "| -1 | 6320790879 |\n",
        "| 2101269 | 234817932 |\n",
        "| 2074697 | 49492056 |\n",
        "| 1215768 | 31096986 |\n",
        "| 2147969 | 31045595 |\n",
        "| 2284259 | 27587259 |\n",
        "| 1675574 | 25020911 |\n",
        "| 2165388 | 22796722 |\n",
        "| 2258002 | 20351258 |\n",
        "| 2187586 | 18773338 |\n",
        "\n"
      ],
      "metadata": {
        "id": "ma1FIo_GtnmK"
      }
    },
    {
      "cell_type": "code",
      "source": [
        ""
      ],
      "metadata": {
        "id": "WlDkGwbz39ER"
      },
      "execution_count": null,
      "outputs": []
    },
    {
      "cell_type": "markdown",
      "source": [
        "### 2. Create a summary table at the account level that signals when an account is new (boolean). An account is new for the first day we see it run a task(s).\n",
        "\n"
      ],
      "metadata": {
        "id": "OCH8oL16uXFl"
      }
    },
    {
      "cell_type": "markdown",
      "source": [
        "```sql\n",
        "CREATE TABLE new_accounts AS\n",
        "SELECT tuda.date,\n",
        "       tuda.account_id,\n",
        "       SUM(tuda.sum_tasks_used) as tasks,\n",
        "       m_date.is_new\n",
        "FROM tasks_used_da AS tuda\n",
        "LEFT JOIN (SELECT MIN(date) AS min_date,\n",
        "              account_id,\n",
        "              't' as is_new\n",
        "          FROM tasks_used_da\n",
        "          WHERE sum_tasks_used > 0\n",
        "          GROUP BY account_id) AS m_date\n",
        "ON tuda.date = m_date.min_date AND tuda.account_id = m_date.account_id\n",
        "GROUP BY tuda.account_id, tuda.date, m_date.is_new\n",
        "ORDER BY tuda.date;\n",
        "\n",
        "UPDATE new_accounts\n",
        "SET is_new = 't'\n",
        "WHERE is_new IS NULL;\n",
        "```"
      ],
      "metadata": {
        "id": "J9pb04sUvAiG"
      }
    },
    {
      "cell_type": "markdown",
      "source": [
        "\n",
        ">  ⚠ This will assume a lot of accounts were created on January 2017 since we don't have data before this date."
      ],
      "metadata": {
        "id": "-f7DOGu-y6x_"
      }
    },
    {
      "cell_type": "markdown",
      "source": [
        "We can take a peak at the table that was just created:\n",
        "\n",
        "```sql\n",
        "SELECT *\n",
        "FROM new_accounts\n",
        "ORDER BY date, account_id\n",
        "LIMIT 50;\n",
        "```\n",
        "\n",
        "| date | account\\_id | tasks | is\\_new |\n",
        "| :--- | :--- | :--- | :--- |\n",
        "| 2017-01-01 | -1 | 8305 | t |\n",
        "| 2017-01-01 | 1 | 48 | t |\n",
        "| 2017-01-01 | 2 | 291 | t |\n",
        "| 2017-01-01 | 3 | 6 | t |\n",
        "| 2017-01-01 | 14 | 16 | t |\n",
        "| 2017-01-01 | 50 | 9 | t |\n",
        "| 2017-01-01 | 64 | 0 | f |\n",
        "| 2017-01-01 | 71 | 1 | t |"
      ],
      "metadata": {
        "id": "QK9BmvvnvcCL"
      }
    },
    {
      "cell_type": "markdown",
      "source": [
        "### 5. A lost account is an account with no tasks run on a given month. How many accounts did we lose (had no executed tasks) in February 2017?"
      ],
      "metadata": {
        "id": "g01lKN4m0osq"
      }
    },
    {
      "cell_type": "markdown",
      "source": [
        "```sql\n",
        "SELECT COUNT(*)\n",
        "FROM (SELECT account_id,\n",
        "             DATE_PART('month', date) AS month,\n",
        "             DATE_PART('year', date)  AS year,\n",
        "             SUM(sum_tasks_used)      AS tasks\n",
        "      FROM tasks_used_da\n",
        "      WHERE DATE_PART('month', date) = 2\n",
        "        AND DATE_PART('year', date) = 2017\n",
        "      GROUP BY account_id, month, year\n",
        "      HAVING tasks <= 0\n",
        ") AS no_tasks_on_feb_2017;\n",
        "```"
      ],
      "metadata": {
        "id": "TpkmnisU00xP"
      }
    },
    {
      "cell_type": "markdown",
      "source": [
        "| count |\n",
        "| :--- |\n",
        "| 13756 |"
      ],
      "metadata": {
        "id": "-FE2xkcA07Zc"
      }
    },
    {
      "cell_type": "markdown",
      "source": [
        "### 6. Create a visualization that represents the growth of new accounts in a way you would communicate to a peer or business stakeholder."
      ],
      "metadata": {
        "id": "fPKJn6g81krH"
      }
    },
    {
      "cell_type": "markdown",
      "source": [
        "```sql \n",
        "SELECT COUNT(account_id) as total_new_accounts,\n",
        "     DATE_PART('week', date) AS week,\n",
        "     DATE_PART('month', date) AS month,\n",
        "     DATE_PART('year', date)  AS year\n",
        "FROM new_accounts\n",
        "WHERE is_new = 't'\n",
        "AND week NOT IN (1, 52)\n",
        "GROUP BY  week, month, year\n",
        "ORDER BY  week, month;\n",
        "```"
      ],
      "metadata": {
        "id": "QlFiKpbe1p21"
      }
    },
    {
      "cell_type": "markdown",
      "source": [
        "![growth_chart.png](data:image/png;base64,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)"
      ],
      "metadata": {
        "id": "VWVve94T4LNS"
      }
    },
    {
      "cell_type": "markdown",
      "source": [
        "| total\\_new\\_accounts | week | month | year |\n",
        "| :--- | :--- | :--- | :--- |\n",
        "| 21348 | 2 | 1 | 2017 |\n",
        "| 13991 | 3 | 1 | 2017 |\n",
        "| 12067 | 4 | 1 | 2017 |\n",
        "| 3681 | 5 | 1 | 2017 |\n",
        "| 7050 | 5 | 2 | 2017 |\n",
        "| 10794 | 6 | 2 | 2017 |\n",
        "| 9474 | 7 | 2 | 2017 |\n",
        "| 9194 | 8 | 2 | 2017 |\n",
        "| 2780 | 9 | 2 | 2017 |\n",
        "| 5894 | 9 | 3 | 2017 |\n",
        "| 9048 | 10 | 3 | 2017 |\n",
        "| 8438 | 11 | 3 | 2017 |\n",
        "| 8010 | 12 | 3 | 2017 |\n",
        "| 6620 | 13 | 3 | 2017 |\n",
        "| 1213 | 13 | 4 | 2017 |\n",
        "| 7905 | 14 | 4 | 2017 |\n",
        "| 7018 | 15 | 4 | 2017 |\n",
        "| 7105 | 16 | 4 | 2017 |\n",
        "| 7520 | 17 | 4 | 2017 |\n",
        "| 7473 | 18 | 5 | 2017 |\n",
        "| 7466 | 19 | 5 | 2017 |\n",
        "| 7447 | 20 | 5 | 2017 |\n",
        "| 7117 | 21 | 5 | 2017 |\n",
        "| 3536 | 22 | 5 | 2017 |\n",
        "| 1286 | 22 | 6 | 2017 |\n"
      ],
      "metadata": {
        "id": "ADtMxYzu2P-C"
      }
    },
    {
      "cell_type": "markdown",
      "source": [
        "# Exploring Data"
      ],
      "metadata": {
        "id": "jKGpN5S5327J"
      }
    },
    {
      "cell_type": "code",
      "execution_count": 22,
      "metadata": {
        "id": "AO-y-lbJSsbr"
      },
      "outputs": [],
      "source": [
        "import pandas as pd\n",
        "import psycopg2\n",
        "from sqlalchemy import create_engine\n",
        "from sqlalchemy import text\n",
        "import seaborn as sns\n",
        "import getpass"
      ]
    },
    {
      "cell_type": "code",
      "source": [
        "print(\"Enter the redshift endpoint URL\")\n",
        "redshift_endpoint = getpass.getpass()\n",
        "print(\"Enter the redshift username\")\n",
        "redshift_user = getpass.getpass()\n",
        "print(\"Enter the redshift password\")\n",
        "redshift_pass = getpass.getpass()\n",
        "print(\"Enter the port number\")\n",
        "port = getpass.getpass()\n",
        "print(\"Enter the db name\")\n",
        "dbname = getpass.getpass()"
      ],
      "metadata": {
        "colab": {
          "base_uri": "https://localhost:8080/",
          "height": 555
        },
        "id": "4o5YA-Zmh6y_",
        "outputId": "437cf0c2-95e0-4a83-d8ad-d932021e0b0e"
      },
      "execution_count": 24,
      "outputs": [
        {
          "output_type": "stream",
          "name": "stdout",
          "text": [
            "Enter the redshift endpoint URL\n"
          ]
        },
        {
          "output_type": "error",
          "ename": "KeyboardInterrupt",
          "evalue": "ignored",
          "traceback": [
            "\u001b[0;31m---------------------------------------------------------------------------\u001b[0m",
            "\u001b[0;31mKeyboardInterrupt\u001b[0m                         Traceback (most recent call last)",
            "\u001b[0;32m/usr/local/lib/python3.7/dist-packages/ipykernel/kernelbase.py\u001b[0m in \u001b[0;36m_input_request\u001b[0;34m(self, prompt, ident, parent, password)\u001b[0m\n\u001b[1;32m    728\u001b[0m             \u001b[0;32mtry\u001b[0m\u001b[0;34m:\u001b[0m\u001b[0;34m\u001b[0m\u001b[0;34m\u001b[0m\u001b[0m\n\u001b[0;32m--> 729\u001b[0;31m                 \u001b[0mident\u001b[0m\u001b[0;34m,\u001b[0m \u001b[0mreply\u001b[0m \u001b[0;34m=\u001b[0m \u001b[0mself\u001b[0m\u001b[0;34m.\u001b[0m\u001b[0msession\u001b[0m\u001b[0;34m.\u001b[0m\u001b[0mrecv\u001b[0m\u001b[0;34m(\u001b[0m\u001b[0mself\u001b[0m\u001b[0;34m.\u001b[0m\u001b[0mstdin_socket\u001b[0m\u001b[0;34m,\u001b[0m \u001b[0;36m0\u001b[0m\u001b[0;34m)\u001b[0m\u001b[0;34m\u001b[0m\u001b[0;34m\u001b[0m\u001b[0m\n\u001b[0m\u001b[1;32m    730\u001b[0m             \u001b[0;32mexcept\u001b[0m \u001b[0mException\u001b[0m\u001b[0;34m:\u001b[0m\u001b[0;34m\u001b[0m\u001b[0;34m\u001b[0m\u001b[0m\n",
            "\u001b[0;32m/usr/local/lib/python3.7/dist-packages/jupyter_client/session.py\u001b[0m in \u001b[0;36mrecv\u001b[0;34m(self, socket, mode, content, copy)\u001b[0m\n\u001b[1;32m    802\u001b[0m         \u001b[0;32mtry\u001b[0m\u001b[0;34m:\u001b[0m\u001b[0;34m\u001b[0m\u001b[0;34m\u001b[0m\u001b[0m\n\u001b[0;32m--> 803\u001b[0;31m             \u001b[0mmsg_list\u001b[0m \u001b[0;34m=\u001b[0m \u001b[0msocket\u001b[0m\u001b[0;34m.\u001b[0m\u001b[0mrecv_multipart\u001b[0m\u001b[0;34m(\u001b[0m\u001b[0mmode\u001b[0m\u001b[0;34m,\u001b[0m \u001b[0mcopy\u001b[0m\u001b[0;34m=\u001b[0m\u001b[0mcopy\u001b[0m\u001b[0;34m)\u001b[0m\u001b[0;34m\u001b[0m\u001b[0;34m\u001b[0m\u001b[0m\n\u001b[0m\u001b[1;32m    804\u001b[0m         \u001b[0;32mexcept\u001b[0m \u001b[0mzmq\u001b[0m\u001b[0;34m.\u001b[0m\u001b[0mZMQError\u001b[0m \u001b[0;32mas\u001b[0m \u001b[0me\u001b[0m\u001b[0;34m:\u001b[0m\u001b[0;34m\u001b[0m\u001b[0;34m\u001b[0m\u001b[0m\n",
            "\u001b[0;32m/usr/local/lib/python3.7/dist-packages/zmq/sugar/socket.py\u001b[0m in \u001b[0;36mrecv_multipart\u001b[0;34m(self, flags, copy, track)\u001b[0m\n\u001b[1;32m    723\u001b[0m         \"\"\"\n\u001b[0;32m--> 724\u001b[0;31m         \u001b[0mparts\u001b[0m \u001b[0;34m=\u001b[0m \u001b[0;34m[\u001b[0m\u001b[0mself\u001b[0m\u001b[0;34m.\u001b[0m\u001b[0mrecv\u001b[0m\u001b[0;34m(\u001b[0m\u001b[0mflags\u001b[0m\u001b[0;34m,\u001b[0m \u001b[0mcopy\u001b[0m\u001b[0;34m=\u001b[0m\u001b[0mcopy\u001b[0m\u001b[0;34m,\u001b[0m \u001b[0mtrack\u001b[0m\u001b[0;34m=\u001b[0m\u001b[0mtrack\u001b[0m\u001b[0;34m)\u001b[0m\u001b[0;34m]\u001b[0m\u001b[0;34m\u001b[0m\u001b[0;34m\u001b[0m\u001b[0m\n\u001b[0m\u001b[1;32m    725\u001b[0m         \u001b[0;31m# have first part already, only loop while more to receive\u001b[0m\u001b[0;34m\u001b[0m\u001b[0;34m\u001b[0m\u001b[0;34m\u001b[0m\u001b[0m\n",
            "\u001b[0;32mzmq/backend/cython/socket.pyx\u001b[0m in \u001b[0;36mzmq.backend.cython.socket.Socket.recv\u001b[0;34m()\u001b[0m\n",
            "\u001b[0;32mzmq/backend/cython/socket.pyx\u001b[0m in \u001b[0;36mzmq.backend.cython.socket.Socket.recv\u001b[0;34m()\u001b[0m\n",
            "\u001b[0;32mzmq/backend/cython/socket.pyx\u001b[0m in \u001b[0;36mzmq.backend.cython.socket._recv_copy\u001b[0;34m()\u001b[0m\n",
            "\u001b[0;32m/usr/local/lib/python3.7/dist-packages/zmq/backend/cython/checkrc.pxd\u001b[0m in \u001b[0;36mzmq.backend.cython.checkrc._check_rc\u001b[0;34m()\u001b[0m\n",
            "\u001b[0;31mKeyboardInterrupt\u001b[0m: ",
            "\nDuring handling of the above exception, another exception occurred:\n",
            "\u001b[0;31mKeyboardInterrupt\u001b[0m                         Traceback (most recent call last)",
            "\u001b[0;32m<ipython-input-24-6ee2fcf5dfc4>\u001b[0m in \u001b[0;36m<module>\u001b[0;34m()\u001b[0m\n\u001b[1;32m      1\u001b[0m \u001b[0mprint\u001b[0m\u001b[0;34m(\u001b[0m\u001b[0;34m\"Enter the redshift endpoint URL\"\u001b[0m\u001b[0;34m)\u001b[0m\u001b[0;34m\u001b[0m\u001b[0;34m\u001b[0m\u001b[0m\n\u001b[0;32m----> 2\u001b[0;31m \u001b[0mredshift_endpoint\u001b[0m \u001b[0;34m=\u001b[0m \u001b[0mgetpass\u001b[0m\u001b[0;34m.\u001b[0m\u001b[0mgetpass\u001b[0m\u001b[0;34m(\u001b[0m\u001b[0;34m)\u001b[0m\u001b[0;34m\u001b[0m\u001b[0;34m\u001b[0m\u001b[0m\n\u001b[0m\u001b[1;32m      3\u001b[0m \u001b[0mprint\u001b[0m\u001b[0;34m(\u001b[0m\u001b[0;34m\"Enter the redshift username\"\u001b[0m\u001b[0;34m)\u001b[0m\u001b[0;34m\u001b[0m\u001b[0;34m\u001b[0m\u001b[0m\n\u001b[1;32m      4\u001b[0m \u001b[0mredshift_user\u001b[0m \u001b[0;34m=\u001b[0m \u001b[0mgetpass\u001b[0m\u001b[0;34m.\u001b[0m\u001b[0mgetpass\u001b[0m\u001b[0;34m(\u001b[0m\u001b[0;34m)\u001b[0m\u001b[0;34m\u001b[0m\u001b[0;34m\u001b[0m\u001b[0m\n\u001b[1;32m      5\u001b[0m \u001b[0mprint\u001b[0m\u001b[0;34m(\u001b[0m\u001b[0;34m\"Enter the redshift password\"\u001b[0m\u001b[0;34m)\u001b[0m\u001b[0;34m\u001b[0m\u001b[0;34m\u001b[0m\u001b[0m\n",
            "\u001b[0;32m/usr/local/lib/python3.7/dist-packages/ipykernel/kernelbase.py\u001b[0m in \u001b[0;36mgetpass\u001b[0;34m(self, prompt, stream)\u001b[0m\n\u001b[1;32m    685\u001b[0m             \u001b[0mself\u001b[0m\u001b[0;34m.\u001b[0m\u001b[0m_parent_ident\u001b[0m\u001b[0;34m,\u001b[0m\u001b[0;34m\u001b[0m\u001b[0;34m\u001b[0m\u001b[0m\n\u001b[1;32m    686\u001b[0m             \u001b[0mself\u001b[0m\u001b[0;34m.\u001b[0m\u001b[0m_parent_header\u001b[0m\u001b[0;34m,\u001b[0m\u001b[0;34m\u001b[0m\u001b[0;34m\u001b[0m\u001b[0m\n\u001b[0;32m--> 687\u001b[0;31m             \u001b[0mpassword\u001b[0m\u001b[0;34m=\u001b[0m\u001b[0;32mTrue\u001b[0m\u001b[0;34m,\u001b[0m\u001b[0;34m\u001b[0m\u001b[0;34m\u001b[0m\u001b[0m\n\u001b[0m\u001b[1;32m    688\u001b[0m         )\n\u001b[1;32m    689\u001b[0m \u001b[0;34m\u001b[0m\u001b[0m\n",
            "\u001b[0;32m/usr/local/lib/python3.7/dist-packages/ipykernel/kernelbase.py\u001b[0m in \u001b[0;36m_input_request\u001b[0;34m(self, prompt, ident, parent, password)\u001b[0m\n\u001b[1;32m    732\u001b[0m             \u001b[0;32mexcept\u001b[0m \u001b[0mKeyboardInterrupt\u001b[0m\u001b[0;34m:\u001b[0m\u001b[0;34m\u001b[0m\u001b[0;34m\u001b[0m\u001b[0m\n\u001b[1;32m    733\u001b[0m                 \u001b[0;31m# re-raise KeyboardInterrupt, to truncate traceback\u001b[0m\u001b[0;34m\u001b[0m\u001b[0;34m\u001b[0m\u001b[0;34m\u001b[0m\u001b[0m\n\u001b[0;32m--> 734\u001b[0;31m                 \u001b[0;32mraise\u001b[0m \u001b[0mKeyboardInterrupt\u001b[0m\u001b[0;34m\u001b[0m\u001b[0;34m\u001b[0m\u001b[0m\n\u001b[0m\u001b[1;32m    735\u001b[0m             \u001b[0;32melse\u001b[0m\u001b[0;34m:\u001b[0m\u001b[0;34m\u001b[0m\u001b[0;34m\u001b[0m\u001b[0m\n\u001b[1;32m    736\u001b[0m                 \u001b[0;32mbreak\u001b[0m\u001b[0;34m\u001b[0m\u001b[0;34m\u001b[0m\u001b[0m\n",
            "\u001b[0;31mKeyboardInterrupt\u001b[0m: "
          ]
        }
      ]
    },
    {
      "cell_type": "code",
      "source": [
        "from sqlalchemy import create_engine\n",
        "from sqlalchemy import text\n",
        "engine_string = \"postgresql+psycopg2://%s:%s@%s:%d/%s\" \\\n",
        "% (redshift_user, redshift_pass, redshift_endpoint, int(port), dbname)\n",
        "engine1 = create_engine(engine_string)"
      ],
      "metadata": {
        "id": "vviAMM-pTJpF"
      },
      "execution_count": 26,
      "outputs": []
    },
    {
      "cell_type": "code",
      "source": [
        "sql = \"\"\"\n",
        "  SELECT COUNT(account_id) as new_accounts,\n",
        "      DATE_PART('week', date) AS week,\n",
        "      DATE_PART('month', date) AS month,\n",
        "      DATE_PART('year', date)  AS year\n",
        "  FROM new_accounts\n",
        "  WHERE is_new = 't'\n",
        "  AND week NOT IN (1, 52)\n",
        "  GROUP BY  week, month, year\n",
        "  ORDER BY  week, month;\n",
        "\"\"\""
      ],
      "metadata": {
        "id": "Syt8wA3dTOzF"
      },
      "execution_count": 30,
      "outputs": []
    },
    {
      "cell_type": "code",
      "source": [
        "df1 = pd.read_sql_query(text(sql), engine1)\n",
        "df1"
      ],
      "metadata": {
        "colab": {
          "base_uri": "https://localhost:8080/",
          "height": 645
        },
        "id": "N95tH27ZTR3M",
        "outputId": "552cd915-588a-4329-84a3-069dc646307a"
      },
      "execution_count": 33,
      "outputs": [
        {
          "output_type": "execute_result",
          "data": {
            "text/plain": [
              "    new_accounts  week  month    year\n",
              "0          21348   2.0    1.0  2017.0\n",
              "1          13991   3.0    1.0  2017.0\n",
              "2          12067   4.0    1.0  2017.0\n",
              "3           3681   5.0    1.0  2017.0\n",
              "4           7050   5.0    2.0  2017.0\n",
              "5          10794   6.0    2.0  2017.0\n",
              "6           9474   7.0    2.0  2017.0\n",
              "7           9194   8.0    2.0  2017.0\n",
              "8           2780   9.0    2.0  2017.0\n",
              "9           5894   9.0    3.0  2017.0\n",
              "10          9048  10.0    3.0  2017.0\n",
              "11          8438  11.0    3.0  2017.0\n",
              "12          8010  12.0    3.0  2017.0\n",
              "13          6620  13.0    3.0  2017.0\n",
              "14          1213  13.0    4.0  2017.0\n",
              "15          7905  14.0    4.0  2017.0\n",
              "16          7018  15.0    4.0  2017.0\n",
              "17          7105  16.0    4.0  2017.0\n",
              "18          7520  17.0    4.0  2017.0\n",
              "19          7473  18.0    5.0  2017.0\n",
              "20          7466  19.0    5.0  2017.0\n",
              "21          7447  20.0    5.0  2017.0\n",
              "22          7117  21.0    5.0  2017.0\n",
              "23          3536  22.0    5.0  2017.0\n",
              "24          1286  22.0    6.0  2017.0"
            ],
            "text/html": [
              "\n",
              "  <div id=\"df-578b327d-5622-43a5-ad16-5e83858d46f8\">\n",
              "    <div class=\"colab-df-container\">\n",
              "      <div>\n",
              "<style scoped>\n",
              "    .dataframe tbody tr th:only-of-type {\n",
              "        vertical-align: middle;\n",
              "    }\n",
              "\n",
              "    .dataframe tbody tr th {\n",
              "        vertical-align: top;\n",
              "    }\n",
              "\n",
              "    .dataframe thead th {\n",
              "        text-align: right;\n",
              "    }\n",
              "</style>\n",
              "<table border=\"1\" class=\"dataframe\">\n",
              "  <thead>\n",
              "    <tr style=\"text-align: right;\">\n",
              "      <th></th>\n",
              "      <th>new_accounts</th>\n",
              "      <th>week</th>\n",
              "      <th>month</th>\n",
              "      <th>year</th>\n",
              "    </tr>\n",
              "  </thead>\n",
              "  <tbody>\n",
              "    <tr>\n",
              "      <th>0</th>\n",
              "      <td>21348</td>\n",
              "      <td>2.0</td>\n",
              "      <td>1.0</td>\n",
              "      <td>2017.0</td>\n",
              "    </tr>\n",
              "    <tr>\n",
              "      <th>1</th>\n",
              "      <td>13991</td>\n",
              "      <td>3.0</td>\n",
              "      <td>1.0</td>\n",
              "      <td>2017.0</td>\n",
              "    </tr>\n",
              "    <tr>\n",
              "      <th>2</th>\n",
              "      <td>12067</td>\n",
              "      <td>4.0</td>\n",
              "      <td>1.0</td>\n",
              "      <td>2017.0</td>\n",
              "    </tr>\n",
              "    <tr>\n",
              "      <th>3</th>\n",
              "      <td>3681</td>\n",
              "      <td>5.0</td>\n",
              "      <td>1.0</td>\n",
              "      <td>2017.0</td>\n",
              "    </tr>\n",
              "    <tr>\n",
              "      <th>4</th>\n",
              "      <td>7050</td>\n",
              "      <td>5.0</td>\n",
              "      <td>2.0</td>\n",
              "      <td>2017.0</td>\n",
              "    </tr>\n",
              "    <tr>\n",
              "      <th>5</th>\n",
              "      <td>10794</td>\n",
              "      <td>6.0</td>\n",
              "      <td>2.0</td>\n",
              "      <td>2017.0</td>\n",
              "    </tr>\n",
              "    <tr>\n",
              "      <th>6</th>\n",
              "      <td>9474</td>\n",
              "      <td>7.0</td>\n",
              "      <td>2.0</td>\n",
              "      <td>2017.0</td>\n",
              "    </tr>\n",
              "    <tr>\n",
              "      <th>7</th>\n",
              "      <td>9194</td>\n",
              "      <td>8.0</td>\n",
              "      <td>2.0</td>\n",
              "      <td>2017.0</td>\n",
              "    </tr>\n",
              "    <tr>\n",
              "      <th>8</th>\n",
              "      <td>2780</td>\n",
              "      <td>9.0</td>\n",
              "      <td>2.0</td>\n",
              "      <td>2017.0</td>\n",
              "    </tr>\n",
              "    <tr>\n",
              "      <th>9</th>\n",
              "      <td>5894</td>\n",
              "      <td>9.0</td>\n",
              "      <td>3.0</td>\n",
              "      <td>2017.0</td>\n",
              "    </tr>\n",
              "    <tr>\n",
              "      <th>10</th>\n",
              "      <td>9048</td>\n",
              "      <td>10.0</td>\n",
              "      <td>3.0</td>\n",
              "      <td>2017.0</td>\n",
              "    </tr>\n",
              "    <tr>\n",
              "      <th>11</th>\n",
              "      <td>8438</td>\n",
              "      <td>11.0</td>\n",
              "      <td>3.0</td>\n",
              "      <td>2017.0</td>\n",
              "    </tr>\n",
              "    <tr>\n",
              "      <th>12</th>\n",
              "      <td>8010</td>\n",
              "      <td>12.0</td>\n",
              "      <td>3.0</td>\n",
              "      <td>2017.0</td>\n",
              "    </tr>\n",
              "    <tr>\n",
              "      <th>13</th>\n",
              "      <td>6620</td>\n",
              "      <td>13.0</td>\n",
              "      <td>3.0</td>\n",
              "      <td>2017.0</td>\n",
              "    </tr>\n",
              "    <tr>\n",
              "      <th>14</th>\n",
              "      <td>1213</td>\n",
              "      <td>13.0</td>\n",
              "      <td>4.0</td>\n",
              "      <td>2017.0</td>\n",
              "    </tr>\n",
              "    <tr>\n",
              "      <th>15</th>\n",
              "      <td>7905</td>\n",
              "      <td>14.0</td>\n",
              "      <td>4.0</td>\n",
              "      <td>2017.0</td>\n",
              "    </tr>\n",
              "    <tr>\n",
              "      <th>16</th>\n",
              "      <td>7018</td>\n",
              "      <td>15.0</td>\n",
              "      <td>4.0</td>\n",
              "      <td>2017.0</td>\n",
              "    </tr>\n",
              "    <tr>\n",
              "      <th>17</th>\n",
              "      <td>7105</td>\n",
              "      <td>16.0</td>\n",
              "      <td>4.0</td>\n",
              "      <td>2017.0</td>\n",
              "    </tr>\n",
              "    <tr>\n",
              "      <th>18</th>\n",
              "      <td>7520</td>\n",
              "      <td>17.0</td>\n",
              "      <td>4.0</td>\n",
              "      <td>2017.0</td>\n",
              "    </tr>\n",
              "    <tr>\n",
              "      <th>19</th>\n",
              "      <td>7473</td>\n",
              "      <td>18.0</td>\n",
              "      <td>5.0</td>\n",
              "      <td>2017.0</td>\n",
              "    </tr>\n",
              "    <tr>\n",
              "      <th>20</th>\n",
              "      <td>7466</td>\n",
              "      <td>19.0</td>\n",
              "      <td>5.0</td>\n",
              "      <td>2017.0</td>\n",
              "    </tr>\n",
              "    <tr>\n",
              "      <th>21</th>\n",
              "      <td>7447</td>\n",
              "      <td>20.0</td>\n",
              "      <td>5.0</td>\n",
              "      <td>2017.0</td>\n",
              "    </tr>\n",
              "    <tr>\n",
              "      <th>22</th>\n",
              "      <td>7117</td>\n",
              "      <td>21.0</td>\n",
              "      <td>5.0</td>\n",
              "      <td>2017.0</td>\n",
              "    </tr>\n",
              "    <tr>\n",
              "      <th>23</th>\n",
              "      <td>3536</td>\n",
              "      <td>22.0</td>\n",
              "      <td>5.0</td>\n",
              "      <td>2017.0</td>\n",
              "    </tr>\n",
              "    <tr>\n",
              "      <th>24</th>\n",
              "      <td>1286</td>\n",
              "      <td>22.0</td>\n",
              "      <td>6.0</td>\n",
              "      <td>2017.0</td>\n",
              "    </tr>\n",
              "  </tbody>\n",
              "</table>\n",
              "</div>\n",
              "      <button class=\"colab-df-convert\" onclick=\"convertToInteractive('df-578b327d-5622-43a5-ad16-5e83858d46f8')\"\n",
              "              title=\"Convert this dataframe to an interactive table.\"\n",
              "              style=\"display:none;\">\n",
              "        \n",
              "  <svg xmlns=\"http://www.w3.org/2000/svg\" height=\"24px\"viewBox=\"0 0 24 24\"\n",
              "       width=\"24px\">\n",
              "    <path d=\"M0 0h24v24H0V0z\" fill=\"none\"/>\n",
              "    <path d=\"M18.56 5.44l.94 2.06.94-2.06 2.06-.94-2.06-.94-.94-2.06-.94 2.06-2.06.94zm-11 1L8.5 8.5l.94-2.06 2.06-.94-2.06-.94L8.5 2.5l-.94 2.06-2.06.94zm10 10l.94 2.06.94-2.06 2.06-.94-2.06-.94-.94-2.06-.94 2.06-2.06.94z\"/><path d=\"M17.41 7.96l-1.37-1.37c-.4-.4-.92-.59-1.43-.59-.52 0-1.04.2-1.43.59L10.3 9.45l-7.72 7.72c-.78.78-.78 2.05 0 2.83L4 21.41c.39.39.9.59 1.41.59.51 0 1.02-.2 1.41-.59l7.78-7.78 2.81-2.81c.8-.78.8-2.07 0-2.86zM5.41 20L4 18.59l7.72-7.72 1.47 1.35L5.41 20z\"/>\n",
              "  </svg>\n",
              "      </button>\n",
              "      \n",
              "  <style>\n",
              "    .colab-df-container {\n",
              "      display:flex;\n",
              "      flex-wrap:wrap;\n",
              "      gap: 12px;\n",
              "    }\n",
              "\n",
              "    .colab-df-convert {\n",
              "      background-color: #E8F0FE;\n",
              "      border: none;\n",
              "      border-radius: 50%;\n",
              "      cursor: pointer;\n",
              "      display: none;\n",
              "      fill: #1967D2;\n",
              "      height: 32px;\n",
              "      padding: 0 0 0 0;\n",
              "      width: 32px;\n",
              "    }\n",
              "\n",
              "    .colab-df-convert:hover {\n",
              "      background-color: #E2EBFA;\n",
              "      box-shadow: 0px 1px 2px rgba(60, 64, 67, 0.3), 0px 1px 3px 1px rgba(60, 64, 67, 0.15);\n",
              "      fill: #174EA6;\n",
              "    }\n",
              "\n",
              "    [theme=dark] .colab-df-convert {\n",
              "      background-color: #3B4455;\n",
              "      fill: #D2E3FC;\n",
              "    }\n",
              "\n",
              "    [theme=dark] .colab-df-convert:hover {\n",
              "      background-color: #434B5C;\n",
              "      box-shadow: 0px 1px 3px 1px rgba(0, 0, 0, 0.15);\n",
              "      filter: drop-shadow(0px 1px 2px rgba(0, 0, 0, 0.3));\n",
              "      fill: #FFFFFF;\n",
              "    }\n",
              "  </style>\n",
              "\n",
              "      <script>\n",
              "        const buttonEl =\n",
              "          document.querySelector('#df-578b327d-5622-43a5-ad16-5e83858d46f8 button.colab-df-convert');\n",
              "        buttonEl.style.display =\n",
              "          google.colab.kernel.accessAllowed ? 'block' : 'none';\n",
              "\n",
              "        async function convertToInteractive(key) {\n",
              "          const element = document.querySelector('#df-578b327d-5622-43a5-ad16-5e83858d46f8');\n",
              "          const dataTable =\n",
              "            await google.colab.kernel.invokeFunction('convertToInteractive',\n",
              "                                                     [key], {});\n",
              "          if (!dataTable) return;\n",
              "\n",
              "          const docLinkHtml = 'Like what you see? Visit the ' +\n",
              "            '<a target=\"_blank\" href=https://colab.research.google.com/notebooks/data_table.ipynb>data table notebook</a>'\n",
              "            + ' to learn more about interactive tables.';\n",
              "          element.innerHTML = '';\n",
              "          dataTable['output_type'] = 'display_data';\n",
              "          await google.colab.output.renderOutput(dataTable, element);\n",
              "          const docLink = document.createElement('div');\n",
              "          docLink.innerHTML = docLinkHtml;\n",
              "          element.appendChild(docLink);\n",
              "        }\n",
              "      </script>\n",
              "    </div>\n",
              "  </div>\n",
              "  "
            ]
          },
          "metadata": {},
          "execution_count": 33
        }
      ]
    },
    {
      "cell_type": "code",
      "source": [
        "sns.lineplot(data=df1, x=\"week\", y=\"new_accounts\")"
      ],
      "metadata": {
        "colab": {
          "base_uri": "https://localhost:8080/",
          "height": 296
        },
        "id": "z_n43xCWTTzM",
        "outputId": "a5214543-7f05-46e7-b44d-6b7095f54ef3"
      },
      "execution_count": 32,
      "outputs": [
        {
          "output_type": "execute_result",
          "data": {
            "text/plain": [
              "<matplotlib.axes._subplots.AxesSubplot at 0x7f0b4fd75150>"
            ]
          },
          "metadata": {},
          "execution_count": 32
        },
        {
          "output_type": "display_data",
          "data": {
            "text/plain": [
              "<Figure size 432x288 with 1 Axes>"
            ],
            "image/png": "[encoded data removed]"
          },
          "metadata": {
            "needs_background": "light"
          }
        }
      ]
    },
    {
      "cell_type": "code",
      "source": [
        ""
      ],
      "metadata": {
        "id": "oL_KgaGvsB5b"
      },
      "execution_count": null,
      "outputs": []
    }
  ]
}